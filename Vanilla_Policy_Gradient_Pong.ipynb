{
 "cells": [
  {
   "cell_type": "code",
   "execution_count": null,
   "id": "31025a8b-4142-49ff-84f8-764f0ace4e25",
   "metadata": {},
   "outputs": [],
   "source": []
  },
  {
   "cell_type": "code",
   "execution_count": 1,
   "id": "55b37fc7-ceb3-4c6f-9346-8aac4e35b002",
   "metadata": {
    "tags": []
   },
   "outputs": [
    {
     "name": "stderr",
     "output_type": "stream",
     "text": [
      "D:\\Anaconda3\\envs\\SKYNET\\lib\\site-packages\\torchvision\\io\\image.py:11: UserWarning: Failed to load image Python extension: Could not find module 'D:\\Anaconda3\\envs\\SKYNET\\Lib\\site-packages\\torchvision\\image.pyd' (or one of its dependencies). Try using the full path with constructor syntax.\n",
      "  warn(f\"Failed to load image Python extension: {e}\")\n"
     ]
    }
   ],
   "source": [
    "import numpy as np\n",
    "import torch\n",
    "from atari_py import import_roms\n",
    "from PIL import Image\n",
    "import torch.nn as nn\n",
    "import copy\n",
    "from torch.optim import RMSprop\n",
    "import gym\n",
    "import matplotlib.pyplot as plt\n",
    "from stable_baselines3 import DQN\n",
    "import torchvision.transforms.functional as TF\n",
    "import torch.nn.functional as F\n",
    "from tqdm import tqdm as tq\n",
    "from gym.core import Env\n",
    "from torch.distributions import Categorical\n",
    "from torch.utils.data import Dataset,DataLoader\n",
    "import pdb\n",
    "import random\n",
    "from torch.optim import Adam,AdamW\n"
   ]
  },
  {
   "cell_type": "code",
   "execution_count": 14,
   "id": "79a325e7-c60b-4e56-95a1-18adc430b81f",
   "metadata": {},
   "outputs": [
    {
     "name": "stderr",
     "output_type": "stream",
     "text": [
      "100%|████████████████████████████████████████████████████████████████████████████████████| 5/5 [01:21<00:00, 16.36s/it]\n"
     ]
    }
   ],
   "source": [
    "\n",
    "env=gym.make('Breakout-v0')\n",
    "rew_trajs=[]\n",
    "for ep in tq(range (5)):\n",
    "    env.reset()\n",
    "    done=False\n",
    "    ep_rew=0\n",
    "    ep_rews=[]\n",
    "    while not done:\n",
    "        frame,rew,done,_=env.step(random.sample([2,3],1))\n",
    "        ep_rew+=rew\n",
    "        ep_rews.append(rew)\n",
    "    rew_trajs.append(ep_rews)\n",
    "    \n",
    "    \n"
   ]
  },
  {
   "cell_type": "code",
   "execution_count": 15,
   "id": "f15ec897-28d1-4d44-a834-f9461287300e",
   "metadata": {},
   "outputs": [
    {
     "data": {
      "text/plain": [
       "gym.core.Env"
      ]
     },
     "execution_count": 15,
     "metadata": {},
     "output_type": "execute_result"
    }
   ],
   "source": [
    "Env"
   ]
  },
  {
   "cell_type": "code",
   "execution_count": 49,
   "id": "1b425968-79ca-4295-8ba6-92ac8877c327",
   "metadata": {},
   "outputs": [
    {
     "data": {
      "text/plain": [
       "<matplotlib.image.AxesImage at 0x1a12ae06d00>"
      ]
     },
     "execution_count": 49,
     "metadata": {},
     "output_type": "execute_result"
    },
    {
     "data": {
      "image/png": "[encoded data removed]",
      "text/plain": [
       "<Figure size 432x288 with 1 Axes>"
      ]
     },
     "metadata": {
      "needs_background": "light"
     },
     "output_type": "display_data"
    }
   ],
   "source": [
    "plt.imshow(env.reset())\n"
   ]
  },
  {
   "cell_type": "code",
   "execution_count": 7,
   "id": "4f947d2c-03b8-4aa4-9a19-bda2275fd787",
   "metadata": {},
   "outputs": [
    {
     "data": {
      "text/plain": [
       "tensor(1)"
      ]
     },
     "execution_count": 7,
     "metadata": {},
     "output_type": "execute_result"
    }
   ],
   "source": [
    "c=Categorical(torch.tensor([0.5,0.5]))\n",
    "c.sample()"
   ]
  },
  {
   "cell_type": "code",
   "execution_count": 13,
   "id": "89b18552-65be-4c83-a9d6-ae2da29f79d5",
   "metadata": {
    "collapsed": true,
    "jupyter": {
     "outputs_hidden": true
    },
    "tags": []
   },
   "outputs": [
    {
     "data": {
      "text/plain": [
       "{'ALLUSERSPROFILE': 'C:\\\\ProgramData',\n",
       " 'APPDATA': 'C:\\\\Users\\\\ANANYA\\\\AppData\\\\Roaming',\n",
       " 'COMMONPROGRAMFILES': 'C:\\\\Program Files\\\\Common Files',\n",
       " 'COMMONPROGRAMFILES(X86)': 'C:\\\\Program Files (x86)\\\\Common Files',\n",
       " 'COMMONPROGRAMW6432': 'C:\\\\Program Files\\\\Common Files',\n",
       " 'COMPUTERNAME': 'LAPTOP-VDF6TFBH',\n",
       " 'COMSPEC': 'C:\\\\WINDOWS\\\\system32\\\\cmd.exe',\n",
       " 'CONDA_DEFAULT_ENV': 'SKYNET',\n",
       " 'CONDA_EXE': 'D:\\\\Anaconda3\\\\Scripts\\\\conda.exe',\n",
       " 'CONDA_PREFIX': 'D:\\\\Anaconda3\\\\envs\\\\SKYNET',\n",
       " 'CONDA_PREFIX_1': 'D:\\\\Anaconda3',\n",
       " 'CONDA_PROMPT_MODIFIER': '(SKYNET) ',\n",
       " 'CONDA_PYTHON_EXE': 'D:\\\\Anaconda3\\\\python.exe',\n",
       " 'CONDA_SHLVL': '2',\n",
       " 'CONFIGSETROOT': 'C:\\\\WINDOWS\\\\ConfigSetRoot',\n",
       " 'CUDA_PATH': 'C:\\\\Program Files\\\\NVIDIA GPU Computing Toolkit\\\\CUDA\\\\v10.1',\n",
       " 'CUDA_PATH_V10_1': 'C:\\\\Program Files\\\\NVIDIA GPU Computing Toolkit\\\\CUDA\\\\v10.1',\n",
       " 'DRIVERDATA': 'C:\\\\Windows\\\\System32\\\\Drivers\\\\DriverData',\n",
       " 'GPU_FORCE_64BIT_PTR': '0',\n",
       " 'GPU_MAX_ALLOC_PERCENT': '100',\n",
       " 'GPU_MAX_HEAP_SIZE': '100',\n",
       " 'GPU_SINGLE_ALLOC_PERCENT': '100',\n",
       " 'GPU_USE_SYNC_OBJECTS': '1',\n",
       " 'HOMEDRIVE': 'C:',\n",
       " 'HOMEPATH': '\\\\Users\\\\ANANYA',\n",
       " 'LOCALAPPDATA': 'C:\\\\Users\\\\ANANYA\\\\AppData\\\\Local',\n",
       " 'LOGONSERVER': '\\\\\\\\LAPTOP-VDF6TFBH',\n",
       " 'NUMBER_OF_PROCESSORS': '8',\n",
       " 'NVCUDASAMPLES10_1_ROOT': 'C:\\\\ProgramData\\\\NVIDIA Corporation\\\\CUDA Samples\\\\v10.1',\n",
       " 'NVCUDASAMPLES_ROOT': 'C:\\\\ProgramData\\\\NVIDIA Corporation\\\\CUDA Samples\\\\v10.1',\n",
       " 'NVTOOLSEXT_PATH': 'C:\\\\Program Files\\\\NVIDIA Corporation\\\\NvToolsExt\\\\',\n",
       " 'ONEDRIVE': 'C:\\\\Users\\\\ANANYA\\\\OneDrive',\n",
       " 'ONEDRIVECONSUMER': 'C:\\\\Users\\\\ANANYA\\\\OneDrive',\n",
       " 'OS': 'Windows_NT',\n",
       " 'PATH': 'D:\\\\Anaconda3\\\\envs\\\\SKYNET\\\\Lib\\\\site-packages\\\\cv2\\\\../../x64/vc14/bin;D:\\\\Anaconda3\\\\envs\\\\SKYNET;D:\\\\Anaconda3\\\\envs\\\\SKYNET\\\\Library\\\\mingw-w64\\\\bin;D:\\\\Anaconda3\\\\envs\\\\SKYNET\\\\Library\\\\usr\\\\bin;D:\\\\Anaconda3\\\\envs\\\\SKYNET\\\\Library\\\\bin;D:\\\\Anaconda3\\\\envs\\\\SKYNET\\\\Scripts;D:\\\\Anaconda3\\\\envs\\\\SKYNET\\\\bin;D:\\\\Anaconda3\\\\condabin;C:\\\\Program Files\\\\NVIDIA GPU Computing Toolkit\\\\CUDA\\\\v10.1\\\\bin;C:\\\\Program Files\\\\NVIDIA GPU Computing Toolkit\\\\CUDA\\\\v10.1\\\\libnvvp;C:\\\\Windows\\\\system32;C:\\\\Windows;C:\\\\Windows\\\\System32\\\\Wbem;C:\\\\Windows\\\\System32\\\\WindowsPowerShell\\\\v1.0;C:\\\\Windows\\\\System32\\\\OpenSSH;C:\\\\Program Files (x86)\\\\NVIDIA Corporation\\\\PhysX\\\\Common;C:\\\\Program Files\\\\NVIDIA Corporation\\\\NVIDIA NGX;C:\\\\Program Files\\\\NVIDIA Corporation\\\\NVIDIA NvDLISR;C:\\\\WINDOWS\\\\system32;C:\\\\WINDOWS;C:\\\\WINDOWS\\\\System32\\\\Wbem;C:\\\\WINDOWS\\\\System32\\\\WindowsPowerShell\\\\v1.0;C:\\\\WINDOWS\\\\System32\\\\OpenSSH;C:\\\\Program Files\\\\NVIDIA Corporation\\\\Nsight Compute 2019.1;C:\\\\Program Files\\\\Git\\\\cmd;C:\\\\WINDOWS\\\\system32;C:\\\\WINDOWS;C:\\\\WINDOWS\\\\System32\\\\Wbem;C:\\\\WINDOWS\\\\System32\\\\WindowsPowerShell\\\\v1.0;C:\\\\WINDOWS\\\\System32\\\\OpenSSH;C:\\\\Program Files\\\\WindowsPowerShell\\\\Scripts;C:\\\\Program Files\\\\Docker\\\\Docker\\\\resources\\\\bin;C:\\\\ProgramData\\\\DockerDesktop\\\\version-bin;C:\\\\Users\\\\ANANYA\\\\AppData\\\\Local\\\\Microsoft\\\\WindowsApps;C:\\\\Users\\\\ANANYA\\\\AppData\\\\Local\\\\GitHubDesktop\\\\bin;C:\\\\Users\\\\ANANYA\\\\AppData\\\\Local\\\\Programs\\\\Microsoft VS Code\\\\bin;C:\\\\Users\\\\ANANYA\\\\Desktop\\\\FASTAI_WD_LATEST\\\\MikTex\\\\miktex\\\\bin\\\\x64',\n",
       " 'PATHEXT': '.COM;.EXE;.BAT;.CMD;.VBS;.VBE;.JS;.JSE;.WSF;.WSH;.MSC',\n",
       " 'PROCESSOR_ARCHITECTURE': 'AMD64',\n",
       " 'PROCESSOR_IDENTIFIER': 'Intel64 Family 6 Model 158 Stepping 10, GenuineIntel',\n",
       " 'PROCESSOR_LEVEL': '6',\n",
       " 'PROCESSOR_REVISION': '9e0a',\n",
       " 'PROGRAMDATA': 'C:\\\\ProgramData',\n",
       " 'PROGRAMFILES': 'C:\\\\Program Files',\n",
       " 'PROGRAMFILES(X86)': 'C:\\\\Program Files (x86)',\n",
       " 'PROGRAMW6432': 'C:\\\\Program Files',\n",
       " 'PROMPT': '(SKYNET) $P$G',\n",
       " 'PSMODULEPATH': 'C:\\\\Program Files\\\\WindowsPowerShell\\\\Modules;C:\\\\WINDOWS\\\\system32\\\\WindowsPowerShell\\\\v1.0\\\\Modules',\n",
       " 'PUBLIC': 'C:\\\\Users\\\\Public',\n",
       " 'SESSIONNAME': 'Console',\n",
       " 'SYSTEMDRIVE': 'C:',\n",
       " 'SYSTEMROOT': 'C:\\\\WINDOWS',\n",
       " 'TEMP': 'C:\\\\Users\\\\ANANYA\\\\AppData\\\\Local\\\\Temp',\n",
       " 'TMP': 'C:\\\\Users\\\\ANANYA\\\\AppData\\\\Local\\\\Temp',\n",
       " 'USERDOMAIN': 'LAPTOP-VDF6TFBH',\n",
       " 'USERDOMAIN_ROAMINGPROFILE': 'LAPTOP-VDF6TFBH',\n",
       " 'USERNAME': 'ANANYA',\n",
       " 'USERPROFILE': 'C:\\\\Users\\\\ANANYA',\n",
       " 'WINDIR': 'C:\\\\WINDOWS',\n",
       " 'PYDEVD_USE_FRAME_EVAL': 'NO',\n",
       " 'JPY_INTERRUPT_EVENT': '3104',\n",
       " 'IPY_INTERRUPT_EVENT': '3104',\n",
       " 'JPY_PARENT_PID': '3112',\n",
       " 'TERM': 'xterm-color',\n",
       " 'CLICOLOR': '1',\n",
       " 'PAGER': 'cat',\n",
       " 'GIT_PAGER': 'cat',\n",
       " 'MPLBACKEND': 'module://matplotlib_inline.backend_inline'}"
      ]
     },
     "execution_count": 13,
     "metadata": {},
     "output_type": "execute_result"
    }
   ],
   "source": [
    "env"
   ]
  },
  {
   "cell_type": "code",
   "execution_count": 8,
   "id": "47c1dd7b-ff4a-4d05-a5a1-7c7fa0d09d09",
   "metadata": {},
   "outputs": [],
   "source": [
    "class atari_env_wrapper(Env):\n",
    "    \n",
    "    \"\"\" Wrapper Class to wrap around actual env and \n",
    "    return processed next state,done and reward info\n",
    "    so Qnet can ingest processed environment state to produce\n",
    "    actions. Example:\n",
    "    \n",
    "    In Atari games the Kframes argument sets the number of frames\n",
    "    to be used by the agent to produce an action.the agent repeats\n",
    "    the action chosen for kframes=4 consecutive atari frames\n",
    "    and concats the 4 produced observation into one tensor(frames) of\n",
    "    shape 4 by 84 by 84 -4 greyscale images of size 4 by 4.\n",
    "    \n",
    "    The reset() method resets the wrapped atari env and also executes\n",
    "    a random action kframes=4 times to produce the first video\"\"\"\n",
    "    \n",
    "   \n",
    "    def __init__(self,env,kframes=4):\n",
    "        self.env=env\n",
    "        self.kframes=k_frames\n",
    "        self.action_space=self.env.action_space\n",
    "        \n",
    "        \n",
    "    def preproc(self,frames):\n",
    "        out=torch.tensor(np.transpose(frames,(0,3,1,2)))/255.\n",
    "        out=TF.rgb_to_grayscale(out)\n",
    "        out=out.squeeze()\n",
    "        out=TF.resize(out,(110,84))\n",
    "        out=TF.crop(out,top=110-84,left=0,height=84,width=84)\n",
    "        return out\n",
    "        \n",
    "    def step(self,action):\n",
    "        frames,rews,dones=[],0,[]\n",
    "        for i in range(self.kframes):\n",
    "            frame,rew,done,_=self.env.step(action)\n",
    "            frames.append(frame)\n",
    "            rews+=rew\n",
    "            dones.append(done)\n",
    "        return (self.preproc(np.stack(frames)),rews,any(dones))\n",
    "    \n",
    "    ## take 1 random step to produce k=4 frames for input to the Qnet\n",
    "    def reset(self):\n",
    "        self.env.reset()\n",
    "        init_act=self.env.action_space.sample()\n",
    "        return self.step(init_act)\n",
    "        \n",
    "        \n",
    "        \n",
    "        \n",
    "class Q_net(nn.Module):\n",
    "    \n",
    "    \n",
    "    \n",
    "    def __init__(self,n_actions=4,act=nn.ReLU()):\n",
    "        super(Q_net, self).__init__()\n",
    "        self.conv1 = nn.Sequential(nn.Conv2d(4, 16, 8, 4),act)\n",
    "      \n",
    "        self.conv2 = nn.Sequential(nn.Conv2d(16, 32, 4, 2),act)\n",
    "        self.pool1=nn.AdaptiveAvgPool2d(1)\n",
    "        self.fc1=nn.Sequential(nn.Linear(32,256),act)\n",
    "        self.fc2=nn.Linear(256,n_actions)\n",
    "        \n",
    "    \n",
    "    def forward(self, x):\n",
    "        out=self.conv1(x)\n",
    "        out=self.conv2(out)\n",
    "        out=self.pool1(out)\n",
    "        out=out.squeeze()\n",
    "        out=self.fc1(out)\n",
    "        out=self.fc2(out)\n",
    "        return out\n",
    "        \n",
    "            \n",
    "        \n",
    "class pi_net(nn.Module):\n",
    "    \"\"\" Simple Convnet architecture replresents a policy network,i.e the probability of taking one of 4 actions\n",
    "    given a state (concatenation of 4 consecutive atari frames\"\"\"\n",
    "    \n",
    "    def __init__(self,n_actions,act=nn.ReLU(),kframes=2):\n",
    "        super(pi_net, self).__init__()\n",
    "        self.conv1 = nn.Sequential(nn.Conv2d(kframes, 16, 8, 4),act)\n",
    "      \n",
    "        self.conv2 = nn.Sequential(nn.Conv2d(16, 32, 4, 2),act)\n",
    "        self.pool1=nn.AdaptiveAvgPool2d(1)\n",
    "        self.fc1=nn.Sequential(nn.Linear(32,256),act)\n",
    "        self.fc2=nn.Linear(256,n_actions)\n",
    "        \n",
    "    \n",
    "    def forward(self, x):\n",
    "        out=self.conv1(x)\n",
    "        out=self.conv2(out)\n",
    "        out=self.pool1(out)\n",
    "        out=out.squeeze()\n",
    "        out=self.fc1(out)\n",
    "        out=self.fc2(out)\n",
    "        return out\n",
    "        \n",
    "            \n",
    "            \n",
    "\n",
    "\n",
    "class atari_VPG():\n",
    "    \"\"\" The Class implements Vanilla Policy Gradient algorithm for atari games.Experiance is generated by a ConvNet Policy,defined by the nn Module\n",
    "        pi_net.baseline b for normlizing monte carlo returns (discounted sum of rewards till end of the episode) is taken as 0.An episode of experiance \n",
    "        is generated and then a policy gradient in estimated (gradient of expected sum of rewards starting in the init state distribution and ending with episode\n",
    "        wrt. the policy parameters.\n",
    "            \"\"\"\n",
    "    def __init__(self,pi_net_arch,device=torch.device('cuda'),batch_size=32,kframes=2,\n",
    "                 env_wrapper=atari_env_wrapper,gamma=0.99,policy_loss=nn.CrossEntropyLoss(reduction='none')):\n",
    "       \n",
    "        self.batch_size=batch_size\n",
    "        self.env_wrapper=env_wrapper(env=gym.make('Pong-v0'),kframes=kframes)\n",
    "         ## selecting only the up and down actions as valid\n",
    "        self.valid_actions=[2,3]\n",
    "        self.n_actions=len(self.valid_actions)\n",
    "        self.device=torch.device('cpu') if not torch.cuda.is_available() else device\n",
    "        print(f'using device:{self.device}')\n",
    "        self.pi_net=pi_net_arch(n_actions=self.n_actions,kframes=kframes).to(device)\n",
    "        self.gamma=gamma\n",
    "        ## selecting only the up and down actions as valid\n",
    "        \n",
    "        self.policy_loss=policy_loss.to(self.device)\n",
    "        \n",
    "    ## torch.utils.dataset wrapped around trajectory input frames and targets,to create Dataloaders from\n",
    "    class trajectory_dataset(Dataset):\n",
    "        def __init__(self,trajectory):\n",
    "            self.trajectory=trajectory\n",
    "        def __len__(self):\n",
    "            return len(self.trajectory)\n",
    "        def __getitem__(self,idx):\n",
    "            return self.trajectory[idx]\n",
    "            \n",
    "            \n",
    "        \n",
    "    def pi_forward(self,proc_frames_batch):\n",
    "        return self.pi_net(proc_frames_batch.to(self.device))\n",
    "        \n",
    "        \n",
    "    def select_action(self,proc_frames_batch):\n",
    "        ## act wrt the current policy (pi_net)\n",
    "        with torch.no_grad():\n",
    "            ## policy net takes batch of input states to prescribe actions,\n",
    "            ## hence for a single state have to pre append a leading dim \n",
    "            probs = F.softmax(self.pi_forward(proc_frames_batch.unsqueeze(0)),dim=0)\n",
    "        # sample action from current policy i.e pi a|s\n",
    "        m = Categorical(probs)\n",
    "        action_index=m.sample()\n",
    "        action =self.valid_actions[action_index]\n",
    "        return action,action_index\n",
    "    \n",
    "    def sample_rollout(self):\n",
    "        proc_frames_batch,rew,done=self.env_wrapper.reset()\n",
    "        ep_act_inds,ep_rews,ep_frames,d_factors=[],[],[],[]\n",
    "        d_factor,total_epi_rew=1,0\n",
    "        while not done:\n",
    "            action,action_index=self.select_action(proc_frames_batch)\n",
    "            proc_frames,rew,done=self.env_wrapper.step(action)\n",
    "            ep_frames.append(proc_frames)\n",
    "            ep_act_inds.append(action_index)\n",
    "            ep_rews.append(rew*d_factor)\n",
    "            d_factors.append(d_factor)\n",
    "            d_factor*=self.gamma\n",
    "            total_epi_rew+=rew\n",
    "        \n",
    "        ep_rews,d_factors=(torch.tensor(x) for x in [ep_rews,d_factors])\n",
    "        ## reverse because the expected sum of future reward is the sum of discounted reward from each timestep onward\n",
    "        pi_targets=ep_rews.sum()-torch.cumsum(ep_rews,dim=0)\n",
    "        ## rescale takgets by removing extra gamma powers (discount factor terms)- not because sutton and bartp has extra gamma**t term for each time t\n",
    "        ## apart from return \n",
    "        ##pi_targets=pi_targets/d_factors\n",
    "        return list(zip(ep_frames,ep_act_inds,pi_targets)),total_epi_rew\n",
    "            \n",
    "        \n",
    "        \n",
    "    def train(self,n_episodes,optimizer_cls=RMSprop,lr=0.001):\n",
    "        optimizer=optimizer_cls(self.pi_net.parameters(),lr)\n",
    "        for n in tq(range(n_episodes),position=0,leave=True):\n",
    "            trajectory,total_rew=self.sample_rollout()\n",
    "            traj_ds=self.trajectory_dataset(trajectory)\n",
    "            traj_dl=DataLoader(dataset=traj_ds,batch_size=32)\n",
    "            episode_loss=[]\n",
    "            for proc_frames_batch,act_inds,pi_targets in traj_dl:\n",
    "                out=self.pi_forward(proc_frames_batch)\n",
    "                try:\n",
    "                    policy_loss=-(self.policy_loss(out,act_inds.to(self.device))*pi_targets.to(self.device)).mean()\n",
    "                ## to cover the case when dataloader returns single item-frames and actions\n",
    "                except:\n",
    "                    policy_loss=-(self.policy_loss(out.unsqueeze(0),act_inds.to(self.device))*pi_targets.to(self.device)).mean()\n",
    "                optimizer.zero_grad()\n",
    "                policy_loss.backward()\n",
    "                optimizer.step()\n",
    "                episode_loss.append(policy_loss)\n",
    "            if n%50==0:\n",
    "                print({'episode':n,'episode_reward':total_rew,'episode_length':len(trajectory),'episode_loss':torch.stack(episode_loss).detach().mean().cpu().item()})\n",
    "            \n",
    "          \n",
    "           \n",
    "          \n",
    "    \n",
    "   \n",
    "                    \n",
    "                    \n",
    "\n",
    "            \n",
    "            \n",
    "            \n",
    "            \n",
    "            \n",
    "            \n",
    "            \n",
    "            \n",
    "            \n",
    "            \n",
    "            \n",
    "            \n",
    "            \n",
    "            \n",
    "            \n",
    "                    \n",
    "                    \n",
    "                    \n",
    "                \n",
    "                \n",
    "                \n",
    "                \n",
    "                \n",
    "                \n",
    "            \n",
    "            \n",
    "            \n",
    "            \n",
    "        \n",
    "        \n",
    "        \n",
    "        \n",
    "        \n",
    "        \n",
    "        \n",
    "        \n",
    "        \n",
    "        \n",
    "        \n",
    "    \n",
    "        "
   ]
  },
  {
   "cell_type": "code",
   "execution_count": 9,
   "id": "73acf6e0-d2f4-473c-9c31-4bc88365e0cb",
   "metadata": {},
   "outputs": [
    {
     "name": "stdout",
     "output_type": "stream",
     "text": [
      "using device:cuda\n"
     ]
    }
   ],
   "source": [
    "VPG=atari_VPG(pi_net_arch=pi_net,gamma=0.99)"
   ]
  },
  {
   "cell_type": "code",
   "execution_count": 74,
   "id": "ba2e50e4-11e3-48a5-bffc-faba6fbbb243",
   "metadata": {},
   "outputs": [
    {
     "data": {
      "text/plain": [
       "'__main__'"
      ]
     },
     "execution_count": 74,
     "metadata": {},
     "output_type": "execute_result"
    }
   ],
   "source": [
    "__name__"
   ]
  },
  {
   "cell_type": "code",
   "execution_count": 10,
   "id": "3a40477b-cdaf-4806-b987-0dfd8efdcedf",
   "metadata": {
    "tags": []
   },
   "outputs": [
    {
     "name": "stderr",
     "output_type": "stream",
     "text": [
      "  0%|▎                                                                                 | 1/300 [00:05<28:57,  5.81s/it]"
     ]
    },
    {
     "name": "stdout",
     "output_type": "stream",
     "text": [
      "{'episode': 0, 'episode_reward': -21.0, 'episode_length': 750, 'episode_loss': 0.24956922233104706}\n"
     ]
    },
    {
     "name": "stderr",
     "output_type": "stream",
     "text": [
      " 17%|█████████████▊                                                                   | 51/300 [05:56<26:45,  6.45s/it]"
     ]
    },
    {
     "name": "stdout",
     "output_type": "stream",
     "text": [
      "{'episode': 50, 'episode_reward': -21.0, 'episode_length': 622, 'episode_loss': 0.35361385345458984}\n"
     ]
    },
    {
     "name": "stderr",
     "output_type": "stream",
     "text": [
      " 21%|████████████████▋                                                                | 62/300 [07:17<27:59,  7.06s/it]\n"
     ]
    },
    {
     "ename": "KeyboardInterrupt",
     "evalue": "",
     "output_type": "error",
     "traceback": [
      "\u001b[1;31m---------------------------------------------------------------------------\u001b[0m",
      "\u001b[1;31mKeyboardInterrupt\u001b[0m                         Traceback (most recent call last)",
      "\u001b[1;32m~\\AppData\\Local\\Temp/ipykernel_7964/3017825374.py\u001b[0m in \u001b[0;36m<module>\u001b[1;34m\u001b[0m\n\u001b[1;32m----> 1\u001b[1;33m \u001b[0mVPG\u001b[0m\u001b[1;33m.\u001b[0m\u001b[0mtrain\u001b[0m\u001b[1;33m(\u001b[0m\u001b[1;36m300\u001b[0m\u001b[1;33m,\u001b[0m\u001b[0mlr\u001b[0m\u001b[1;33m=\u001b[0m\u001b[1;36m0.00001\u001b[0m\u001b[1;33m,\u001b[0m\u001b[0moptimizer_cls\u001b[0m\u001b[1;33m=\u001b[0m\u001b[0mAdam\u001b[0m\u001b[1;33m)\u001b[0m\u001b[1;33m\u001b[0m\u001b[1;33m\u001b[0m\u001b[0m\n\u001b[0m",
      "\u001b[1;32m~\\AppData\\Local\\Temp/ipykernel_7964/3170460246.py\u001b[0m in \u001b[0;36mtrain\u001b[1;34m(self, n_episodes, optimizer_cls, lr)\u001b[0m\n\u001b[0;32m    182\u001b[0m         \u001b[0moptimizer\u001b[0m\u001b[1;33m=\u001b[0m\u001b[0moptimizer_cls\u001b[0m\u001b[1;33m(\u001b[0m\u001b[0mself\u001b[0m\u001b[1;33m.\u001b[0m\u001b[0mpi_net\u001b[0m\u001b[1;33m.\u001b[0m\u001b[0mparameters\u001b[0m\u001b[1;33m(\u001b[0m\u001b[1;33m)\u001b[0m\u001b[1;33m,\u001b[0m\u001b[0mlr\u001b[0m\u001b[1;33m)\u001b[0m\u001b[1;33m\u001b[0m\u001b[1;33m\u001b[0m\u001b[0m\n\u001b[0;32m    183\u001b[0m         \u001b[1;32mfor\u001b[0m \u001b[0mn\u001b[0m \u001b[1;32min\u001b[0m \u001b[0mtq\u001b[0m\u001b[1;33m(\u001b[0m\u001b[0mrange\u001b[0m\u001b[1;33m(\u001b[0m\u001b[0mn_episodes\u001b[0m\u001b[1;33m)\u001b[0m\u001b[1;33m,\u001b[0m\u001b[0mposition\u001b[0m\u001b[1;33m=\u001b[0m\u001b[1;36m0\u001b[0m\u001b[1;33m,\u001b[0m\u001b[0mleave\u001b[0m\u001b[1;33m=\u001b[0m\u001b[1;32mTrue\u001b[0m\u001b[1;33m)\u001b[0m\u001b[1;33m:\u001b[0m\u001b[1;33m\u001b[0m\u001b[1;33m\u001b[0m\u001b[0m\n\u001b[1;32m--> 184\u001b[1;33m             \u001b[0mtrajectory\u001b[0m\u001b[1;33m,\u001b[0m\u001b[0mtotal_rew\u001b[0m\u001b[1;33m=\u001b[0m\u001b[0mself\u001b[0m\u001b[1;33m.\u001b[0m\u001b[0msample_rollout\u001b[0m\u001b[1;33m(\u001b[0m\u001b[1;33m)\u001b[0m\u001b[1;33m\u001b[0m\u001b[1;33m\u001b[0m\u001b[0m\n\u001b[0m\u001b[0;32m    185\u001b[0m             \u001b[0mtraj_ds\u001b[0m\u001b[1;33m=\u001b[0m\u001b[0mself\u001b[0m\u001b[1;33m.\u001b[0m\u001b[0mtrajectory_dataset\u001b[0m\u001b[1;33m(\u001b[0m\u001b[0mtrajectory\u001b[0m\u001b[1;33m)\u001b[0m\u001b[1;33m\u001b[0m\u001b[1;33m\u001b[0m\u001b[0m\n\u001b[0;32m    186\u001b[0m             \u001b[0mtraj_dl\u001b[0m\u001b[1;33m=\u001b[0m\u001b[0mDataLoader\u001b[0m\u001b[1;33m(\u001b[0m\u001b[0mdataset\u001b[0m\u001b[1;33m=\u001b[0m\u001b[0mtraj_ds\u001b[0m\u001b[1;33m,\u001b[0m\u001b[0mbatch_size\u001b[0m\u001b[1;33m=\u001b[0m\u001b[1;36m32\u001b[0m\u001b[1;33m)\u001b[0m\u001b[1;33m\u001b[0m\u001b[1;33m\u001b[0m\u001b[0m\n",
      "\u001b[1;32m~\\AppData\\Local\\Temp/ipykernel_7964/3170460246.py\u001b[0m in \u001b[0;36msample_rollout\u001b[1;34m(self)\u001b[0m\n\u001b[0;32m    161\u001b[0m         \u001b[1;32mwhile\u001b[0m \u001b[1;32mnot\u001b[0m \u001b[0mdone\u001b[0m\u001b[1;33m:\u001b[0m\u001b[1;33m\u001b[0m\u001b[1;33m\u001b[0m\u001b[0m\n\u001b[0;32m    162\u001b[0m             \u001b[0maction\u001b[0m\u001b[1;33m,\u001b[0m\u001b[0maction_index\u001b[0m\u001b[1;33m=\u001b[0m\u001b[0mself\u001b[0m\u001b[1;33m.\u001b[0m\u001b[0mselect_action\u001b[0m\u001b[1;33m(\u001b[0m\u001b[0mproc_frames_batch\u001b[0m\u001b[1;33m)\u001b[0m\u001b[1;33m\u001b[0m\u001b[1;33m\u001b[0m\u001b[0m\n\u001b[1;32m--> 163\u001b[1;33m             \u001b[0mproc_frames\u001b[0m\u001b[1;33m,\u001b[0m\u001b[0mrew\u001b[0m\u001b[1;33m,\u001b[0m\u001b[0mdone\u001b[0m\u001b[1;33m=\u001b[0m\u001b[0mself\u001b[0m\u001b[1;33m.\u001b[0m\u001b[0menv_wrapper\u001b[0m\u001b[1;33m.\u001b[0m\u001b[0mstep\u001b[0m\u001b[1;33m(\u001b[0m\u001b[0maction\u001b[0m\u001b[1;33m)\u001b[0m\u001b[1;33m\u001b[0m\u001b[1;33m\u001b[0m\u001b[0m\n\u001b[0m\u001b[0;32m    164\u001b[0m             \u001b[0mep_frames\u001b[0m\u001b[1;33m.\u001b[0m\u001b[0mappend\u001b[0m\u001b[1;33m(\u001b[0m\u001b[0mproc_frames\u001b[0m\u001b[1;33m)\u001b[0m\u001b[1;33m\u001b[0m\u001b[1;33m\u001b[0m\u001b[0m\n\u001b[0;32m    165\u001b[0m             \u001b[0mep_act_inds\u001b[0m\u001b[1;33m.\u001b[0m\u001b[0mappend\u001b[0m\u001b[1;33m(\u001b[0m\u001b[0maction_index\u001b[0m\u001b[1;33m)\u001b[0m\u001b[1;33m\u001b[0m\u001b[1;33m\u001b[0m\u001b[0m\n",
      "\u001b[1;32m~\\AppData\\Local\\Temp/ipykernel_7964/3170460246.py\u001b[0m in \u001b[0;36mstep\u001b[1;34m(self, action)\u001b[0m\n\u001b[0;32m     33\u001b[0m         \u001b[0mframes\u001b[0m\u001b[1;33m,\u001b[0m\u001b[0mrews\u001b[0m\u001b[1;33m,\u001b[0m\u001b[0mdones\u001b[0m\u001b[1;33m=\u001b[0m\u001b[1;33m[\u001b[0m\u001b[1;33m]\u001b[0m\u001b[1;33m,\u001b[0m\u001b[1;36m0\u001b[0m\u001b[1;33m,\u001b[0m\u001b[1;33m[\u001b[0m\u001b[1;33m]\u001b[0m\u001b[1;33m\u001b[0m\u001b[1;33m\u001b[0m\u001b[0m\n\u001b[0;32m     34\u001b[0m         \u001b[1;32mfor\u001b[0m \u001b[0mi\u001b[0m \u001b[1;32min\u001b[0m \u001b[0mrange\u001b[0m\u001b[1;33m(\u001b[0m\u001b[0mself\u001b[0m\u001b[1;33m.\u001b[0m\u001b[0mkframes\u001b[0m\u001b[1;33m)\u001b[0m\u001b[1;33m:\u001b[0m\u001b[1;33m\u001b[0m\u001b[1;33m\u001b[0m\u001b[0m\n\u001b[1;32m---> 35\u001b[1;33m             \u001b[0mframe\u001b[0m\u001b[1;33m,\u001b[0m\u001b[0mrew\u001b[0m\u001b[1;33m,\u001b[0m\u001b[0mdone\u001b[0m\u001b[1;33m,\u001b[0m\u001b[0m_\u001b[0m\u001b[1;33m=\u001b[0m\u001b[0mself\u001b[0m\u001b[1;33m.\u001b[0m\u001b[0menv\u001b[0m\u001b[1;33m.\u001b[0m\u001b[0mstep\u001b[0m\u001b[1;33m(\u001b[0m\u001b[0maction\u001b[0m\u001b[1;33m)\u001b[0m\u001b[1;33m\u001b[0m\u001b[1;33m\u001b[0m\u001b[0m\n\u001b[0m\u001b[0;32m     36\u001b[0m             \u001b[0mframes\u001b[0m\u001b[1;33m.\u001b[0m\u001b[0mappend\u001b[0m\u001b[1;33m(\u001b[0m\u001b[0mframe\u001b[0m\u001b[1;33m)\u001b[0m\u001b[1;33m\u001b[0m\u001b[1;33m\u001b[0m\u001b[0m\n\u001b[0;32m     37\u001b[0m             \u001b[0mrews\u001b[0m\u001b[1;33m+=\u001b[0m\u001b[0mrew\u001b[0m\u001b[1;33m\u001b[0m\u001b[1;33m\u001b[0m\u001b[0m\n",
      "\u001b[1;32mD:\\Anaconda3\\envs\\SKYNET\\lib\\site-packages\\gym\\wrappers\\time_limit.py\u001b[0m in \u001b[0;36mstep\u001b[1;34m(self, action)\u001b[0m\n\u001b[0;32m     16\u001b[0m             \u001b[0mself\u001b[0m\u001b[1;33m.\u001b[0m\u001b[0m_elapsed_steps\u001b[0m \u001b[1;32mis\u001b[0m \u001b[1;32mnot\u001b[0m \u001b[1;32mNone\u001b[0m\u001b[1;33m\u001b[0m\u001b[1;33m\u001b[0m\u001b[0m\n\u001b[0;32m     17\u001b[0m         ), \"Cannot call env.step() before calling reset()\"\n\u001b[1;32m---> 18\u001b[1;33m         \u001b[0mobservation\u001b[0m\u001b[1;33m,\u001b[0m \u001b[0mreward\u001b[0m\u001b[1;33m,\u001b[0m \u001b[0mdone\u001b[0m\u001b[1;33m,\u001b[0m \u001b[0minfo\u001b[0m \u001b[1;33m=\u001b[0m \u001b[0mself\u001b[0m\u001b[1;33m.\u001b[0m\u001b[0menv\u001b[0m\u001b[1;33m.\u001b[0m\u001b[0mstep\u001b[0m\u001b[1;33m(\u001b[0m\u001b[0maction\u001b[0m\u001b[1;33m)\u001b[0m\u001b[1;33m\u001b[0m\u001b[1;33m\u001b[0m\u001b[0m\n\u001b[0m\u001b[0;32m     19\u001b[0m         \u001b[0mself\u001b[0m\u001b[1;33m.\u001b[0m\u001b[0m_elapsed_steps\u001b[0m \u001b[1;33m+=\u001b[0m \u001b[1;36m1\u001b[0m\u001b[1;33m\u001b[0m\u001b[1;33m\u001b[0m\u001b[0m\n\u001b[0;32m     20\u001b[0m         \u001b[1;32mif\u001b[0m \u001b[0mself\u001b[0m\u001b[1;33m.\u001b[0m\u001b[0m_elapsed_steps\u001b[0m \u001b[1;33m>=\u001b[0m \u001b[0mself\u001b[0m\u001b[1;33m.\u001b[0m\u001b[0m_max_episode_steps\u001b[0m\u001b[1;33m:\u001b[0m\u001b[1;33m\u001b[0m\u001b[1;33m\u001b[0m\u001b[0m\n",
      "\u001b[1;32mD:\\Anaconda3\\envs\\SKYNET\\lib\\site-packages\\gym\\envs\\atari\\atari_env.py\u001b[0m in \u001b[0;36mstep\u001b[1;34m(self, a)\u001b[0m\n\u001b[0;32m    133\u001b[0m         \u001b[1;32mfor\u001b[0m \u001b[0m_\u001b[0m \u001b[1;32min\u001b[0m \u001b[0mrange\u001b[0m\u001b[1;33m(\u001b[0m\u001b[0mnum_steps\u001b[0m\u001b[1;33m)\u001b[0m\u001b[1;33m:\u001b[0m\u001b[1;33m\u001b[0m\u001b[1;33m\u001b[0m\u001b[0m\n\u001b[0;32m    134\u001b[0m             \u001b[0mreward\u001b[0m \u001b[1;33m+=\u001b[0m \u001b[0mself\u001b[0m\u001b[1;33m.\u001b[0m\u001b[0male\u001b[0m\u001b[1;33m.\u001b[0m\u001b[0mact\u001b[0m\u001b[1;33m(\u001b[0m\u001b[0maction\u001b[0m\u001b[1;33m)\u001b[0m\u001b[1;33m\u001b[0m\u001b[1;33m\u001b[0m\u001b[0m\n\u001b[1;32m--> 135\u001b[1;33m         \u001b[0mob\u001b[0m \u001b[1;33m=\u001b[0m \u001b[0mself\u001b[0m\u001b[1;33m.\u001b[0m\u001b[0m_get_obs\u001b[0m\u001b[1;33m(\u001b[0m\u001b[1;33m)\u001b[0m\u001b[1;33m\u001b[0m\u001b[1;33m\u001b[0m\u001b[0m\n\u001b[0m\u001b[0;32m    136\u001b[0m \u001b[1;33m\u001b[0m\u001b[0m\n\u001b[0;32m    137\u001b[0m         \u001b[1;32mreturn\u001b[0m \u001b[0mob\u001b[0m\u001b[1;33m,\u001b[0m \u001b[0mreward\u001b[0m\u001b[1;33m,\u001b[0m \u001b[0mself\u001b[0m\u001b[1;33m.\u001b[0m\u001b[0male\u001b[0m\u001b[1;33m.\u001b[0m\u001b[0mgame_over\u001b[0m\u001b[1;33m(\u001b[0m\u001b[1;33m)\u001b[0m\u001b[1;33m,\u001b[0m \u001b[1;33m{\u001b[0m\u001b[1;34m\"ale.lives\"\u001b[0m\u001b[1;33m:\u001b[0m \u001b[0mself\u001b[0m\u001b[1;33m.\u001b[0m\u001b[0male\u001b[0m\u001b[1;33m.\u001b[0m\u001b[0mlives\u001b[0m\u001b[1;33m(\u001b[0m\u001b[1;33m)\u001b[0m\u001b[1;33m}\u001b[0m\u001b[1;33m\u001b[0m\u001b[1;33m\u001b[0m\u001b[0m\n",
      "\u001b[1;32mD:\\Anaconda3\\envs\\SKYNET\\lib\\site-packages\\gym\\envs\\atari\\atari_env.py\u001b[0m in \u001b[0;36m_get_obs\u001b[1;34m(self)\u001b[0m\n\u001b[0;32m    151\u001b[0m             \u001b[1;32mreturn\u001b[0m \u001b[0mself\u001b[0m\u001b[1;33m.\u001b[0m\u001b[0m_get_ram\u001b[0m\u001b[1;33m(\u001b[0m\u001b[1;33m)\u001b[0m\u001b[1;33m\u001b[0m\u001b[1;33m\u001b[0m\u001b[0m\n\u001b[0;32m    152\u001b[0m         \u001b[1;32melif\u001b[0m \u001b[0mself\u001b[0m\u001b[1;33m.\u001b[0m\u001b[0m_obs_type\u001b[0m \u001b[1;33m==\u001b[0m \u001b[1;34m\"image\"\u001b[0m\u001b[1;33m:\u001b[0m\u001b[1;33m\u001b[0m\u001b[1;33m\u001b[0m\u001b[0m\n\u001b[1;32m--> 153\u001b[1;33m             \u001b[0mimg\u001b[0m \u001b[1;33m=\u001b[0m \u001b[0mself\u001b[0m\u001b[1;33m.\u001b[0m\u001b[0m_get_image\u001b[0m\u001b[1;33m(\u001b[0m\u001b[1;33m)\u001b[0m\u001b[1;33m\u001b[0m\u001b[1;33m\u001b[0m\u001b[0m\n\u001b[0m\u001b[0;32m    154\u001b[0m         \u001b[1;32mreturn\u001b[0m \u001b[0mimg\u001b[0m\u001b[1;33m\u001b[0m\u001b[1;33m\u001b[0m\u001b[0m\n\u001b[0;32m    155\u001b[0m \u001b[1;33m\u001b[0m\u001b[0m\n",
      "\u001b[1;32mD:\\Anaconda3\\envs\\SKYNET\\lib\\site-packages\\gym\\envs\\atari\\atari_env.py\u001b[0m in \u001b[0;36m_get_image\u001b[1;34m(self)\u001b[0m\n\u001b[0;32m    138\u001b[0m \u001b[1;33m\u001b[0m\u001b[0m\n\u001b[0;32m    139\u001b[0m     \u001b[1;32mdef\u001b[0m \u001b[0m_get_image\u001b[0m\u001b[1;33m(\u001b[0m\u001b[0mself\u001b[0m\u001b[1;33m)\u001b[0m\u001b[1;33m:\u001b[0m\u001b[1;33m\u001b[0m\u001b[1;33m\u001b[0m\u001b[0m\n\u001b[1;32m--> 140\u001b[1;33m         \u001b[1;32mreturn\u001b[0m \u001b[0mself\u001b[0m\u001b[1;33m.\u001b[0m\u001b[0male\u001b[0m\u001b[1;33m.\u001b[0m\u001b[0mgetScreenRGB2\u001b[0m\u001b[1;33m(\u001b[0m\u001b[1;33m)\u001b[0m\u001b[1;33m\u001b[0m\u001b[1;33m\u001b[0m\u001b[0m\n\u001b[0m\u001b[0;32m    141\u001b[0m \u001b[1;33m\u001b[0m\u001b[0m\n\u001b[0;32m    142\u001b[0m     \u001b[1;32mdef\u001b[0m \u001b[0m_get_ram\u001b[0m\u001b[1;33m(\u001b[0m\u001b[0mself\u001b[0m\u001b[1;33m)\u001b[0m\u001b[1;33m:\u001b[0m\u001b[1;33m\u001b[0m\u001b[1;33m\u001b[0m\u001b[0m\n",
      "\u001b[1;32mD:\\Anaconda3\\envs\\SKYNET\\lib\\site-packages\\atari_py\\ale_python_interface.py\u001b[0m in \u001b[0;36mgetScreenRGB2\u001b[1;34m(self, screen_data)\u001b[0m\n\u001b[0;32m    264\u001b[0m             \u001b[0mscreen_data\u001b[0m \u001b[1;33m=\u001b[0m \u001b[0mnp\u001b[0m\u001b[1;33m.\u001b[0m\u001b[0mempty\u001b[0m\u001b[1;33m(\u001b[0m\u001b[1;33m(\u001b[0m\u001b[0mheight\u001b[0m\u001b[1;33m,\u001b[0m \u001b[0mwidth\u001b[0m\u001b[1;33m,\u001b[0m \u001b[1;36m3\u001b[0m\u001b[1;33m)\u001b[0m\u001b[1;33m,\u001b[0m \u001b[0mdtype\u001b[0m\u001b[1;33m=\u001b[0m\u001b[0mnp\u001b[0m\u001b[1;33m.\u001b[0m\u001b[0muint8\u001b[0m\u001b[1;33m)\u001b[0m\u001b[1;33m\u001b[0m\u001b[1;33m\u001b[0m\u001b[0m\n\u001b[0;32m    265\u001b[0m         \u001b[1;32massert\u001b[0m \u001b[0mscreen_data\u001b[0m\u001b[1;33m.\u001b[0m\u001b[0mstrides\u001b[0m \u001b[1;33m==\u001b[0m \u001b[1;33m(\u001b[0m\u001b[1;36m480\u001b[0m\u001b[1;33m,\u001b[0m \u001b[1;36m3\u001b[0m\u001b[1;33m,\u001b[0m \u001b[1;36m1\u001b[0m\u001b[1;33m)\u001b[0m\u001b[1;33m\u001b[0m\u001b[1;33m\u001b[0m\u001b[0m\n\u001b[1;32m--> 266\u001b[1;33m         \u001b[0male_lib\u001b[0m\u001b[1;33m.\u001b[0m\u001b[0mgetScreenRGB2\u001b[0m\u001b[1;33m(\u001b[0m\u001b[0mself\u001b[0m\u001b[1;33m.\u001b[0m\u001b[0mobj\u001b[0m\u001b[1;33m,\u001b[0m \u001b[0mas_ctypes\u001b[0m\u001b[1;33m(\u001b[0m\u001b[0mscreen_data\u001b[0m\u001b[1;33m[\u001b[0m\u001b[1;33m:\u001b[0m\u001b[1;33m]\u001b[0m\u001b[1;33m)\u001b[0m\u001b[1;33m)\u001b[0m\u001b[1;33m\u001b[0m\u001b[1;33m\u001b[0m\u001b[0m\n\u001b[0m\u001b[0;32m    267\u001b[0m         \u001b[1;32mreturn\u001b[0m \u001b[0mscreen_data\u001b[0m\u001b[1;33m\u001b[0m\u001b[1;33m\u001b[0m\u001b[0m\n\u001b[0;32m    268\u001b[0m \u001b[1;33m\u001b[0m\u001b[0m\n",
      "\u001b[1;31mKeyboardInterrupt\u001b[0m: "
     ]
    }
   ],
   "source": [
    "VPG.train(300,lr=0.00001,optimizer_cls=Adam)"
   ]
  },
  {
   "cell_type": "code",
   "execution_count": 57,
   "id": "ef54228d-7c36-4a49-a2bd-73eb738c7046",
   "metadata": {},
   "outputs": [
    {
     "data": {
      "text/plain": [
       "([-21.0, -21.0, -21.0, -21.0, -21.0, -20.0, -21.0, -21.0, -21.0, -21.0],\n",
       " [354, 335, 314, 379, 295, 369, 297, 254, 337, 357])"
      ]
     },
     "execution_count": 57,
     "metadata": {},
     "output_type": "execute_result"
    }
   ],
   "source": [
    "rews=[]\n",
    "steps=[]\n",
    "for i in range (10):\n",
    "    traj,rew=VPG.sample_rollout()\n",
    "    rews.append(rew)\n",
    "    steps.append(len(traj))\n",
    "    \n",
    "rews,steps"
   ]
  },
  {
   "cell_type": "code",
   "execution_count": null,
   "id": "bb264e00-5a62-4349-a62a-8ed6cc56b4ab",
   "metadata": {},
   "outputs": [],
   "source": [
    "1"
   ]
  },
  {
   "cell_type": "code",
   "execution_count": null,
   "id": "34a3b5b3-5f83-4e95-884b-10471f87a691",
   "metadata": {},
   "outputs": [],
   "source": []
  },
  {
   "cell_type": "code",
   "execution_count": 26,
   "id": "e8f6de6f-69f7-4e4a-8ea6-8c70f91fb960",
   "metadata": {},
   "outputs": [],
   "source": [
    "loss = nn.CrossEntropyLoss(reduction='none')\n",
    "inp = torch.randn(3, 5, requires_grad=True)\n",
    "target = torch.empty(3, dtype=torch.long).random_(5)\n",
    "output = loss(inp, target)"
   ]
  },
  {
   "cell_type": "code",
   "execution_count": 28,
   "id": "fd0d8137-43fb-4a2a-b129-ec694e1a0c33",
   "metadata": {},
   "outputs": [
    {
     "data": {
      "text/plain": [
       "torch.Size([3, 5])"
      ]
     },
     "execution_count": 28,
     "metadata": {},
     "output_type": "execute_result"
    }
   ],
   "source": [
    "inp.shape"
   ]
  },
  {
   "cell_type": "code",
   "execution_count": 30,
   "id": "893a3cb6-351c-46c0-982d-ea52fa0cf7be",
   "metadata": {},
   "outputs": [
    {
     "data": {
      "text/plain": [
       "tensor([0, 2, 3])"
      ]
     },
     "execution_count": 30,
     "metadata": {},
     "output_type": "execute_result"
    }
   ],
   "source": [
    "target"
   ]
  },
  {
   "cell_type": "code",
   "execution_count": 31,
   "id": "034ad728-fb69-4cfd-9918-4273faf2d6f9",
   "metadata": {},
   "outputs": [
    {
     "data": {
      "text/plain": [
       "tensor([[-1.8331,  1.2661,  1.3427,  0.2605, -1.5767],\n",
       "        [ 1.0396, -0.2459,  0.0255,  0.0121,  1.4747],\n",
       "        [-0.2219,  1.2437, -0.5815,  0.1338, -0.1861]], requires_grad=True)"
      ]
     },
     "execution_count": 31,
     "metadata": {},
     "output_type": "execute_result"
    }
   ],
   "source": [
    "inp"
   ]
  },
  {
   "cell_type": "code",
   "execution_count": 32,
   "id": "b5dc84fd-8d88-4c77-a6be-4b1293d62b0e",
   "metadata": {},
   "outputs": [
    {
     "data": {
      "text/plain": [
       "tensor([4.0349, 2.2789, 1.7834], grad_fn=<NllLossBackward0>)"
      ]
     },
     "execution_count": 32,
     "metadata": {},
     "output_type": "execute_result"
    }
   ],
   "source": [
    "output"
   ]
  },
  {
   "cell_type": "code",
   "execution_count": 33,
   "id": "2724d67b-6f51-406e-96a7-657b6cb2d671",
   "metadata": {},
   "outputs": [
    {
     "data": {
      "text/plain": [
       "torch.Size([5])"
      ]
     },
     "execution_count": 33,
     "metadata": {},
     "output_type": "execute_result"
    }
   ],
   "source": [
    "inp[0].shape"
   ]
  },
  {
   "cell_type": "code",
   "execution_count": 47,
   "id": "eeaa9687-8790-4b1a-ad28-3cec2f96c0c6",
   "metadata": {},
   "outputs": [],
   "source": [
    "output = loss(inp[0].unsqueeze(0), target[0].unsqueeze(0))"
   ]
  },
  {
   "cell_type": "code",
   "execution_count": 48,
   "id": "d5a18fbf-4936-44ad-b5c7-4b87ed22572e",
   "metadata": {},
   "outputs": [
    {
     "data": {
      "text/plain": [
       "tensor([4.0349], grad_fn=<NllLossBackward0>)"
      ]
     },
     "execution_count": 48,
     "metadata": {},
     "output_type": "execute_result"
    }
   ],
   "source": [
    "output"
   ]
  },
  {
   "cell_type": "code",
   "execution_count": 38,
   "id": "6af263a7-2a36-4485-8ae9-bd577de4a7d6",
   "metadata": {},
   "outputs": [
    {
     "data": {
      "text/plain": [
       "tensor([4.0349], grad_fn=<NllLossBackward0>)"
      ]
     },
     "execution_count": 38,
     "metadata": {},
     "output_type": "execute_result"
    }
   ],
   "source": [
    "output"
   ]
  },
  {
   "cell_type": "code",
   "execution_count": 46,
   "id": "2f74610c-24a0-4cc0-b715-7940905333c4",
   "metadata": {},
   "outputs": [
    {
     "data": {
      "text/plain": [
       "tensor(-4.0349, grad_fn=<SelectBackward0>)"
      ]
     },
     "execution_count": 46,
     "metadata": {},
     "output_type": "execute_result"
    }
   ],
   "source": [
    "torch.log(F.softmax(inp,dim=1))[0][0]"
   ]
  },
  {
   "cell_type": "code",
   "execution_count": 40,
   "id": "fac13ccc-393b-41bc-9134-dd622cfb6cee",
   "metadata": {},
   "outputs": [
    {
     "data": {
      "text/plain": [
       "torch.Size([3, 5])"
      ]
     },
     "execution_count": 40,
     "metadata": {},
     "output_type": "execute_result"
    }
   ],
   "source": [
    "inp.shape"
   ]
  },
  {
   "cell_type": "code",
   "execution_count": null,
   "id": "4997bbad-5e9d-40fb-94e7-0e6744e7be00",
   "metadata": {},
   "outputs": [],
   "source": []
  },
  {
   "cell_type": "code",
   "execution_count": null,
   "id": "8409e6ce-7cdd-454e-9c51-56be958f7d31",
   "metadata": {},
   "outputs": [],
   "source": []
  },
  {
   "cell_type": "code",
   "execution_count": null,
   "id": "941903a8-2dfc-4b7a-be60-5aa17c8980e2",
   "metadata": {},
   "outputs": [],
   "source": []
  },
  {
   "cell_type": "code",
   "execution_count": null,
   "id": "d3cb0415-fe66-4870-a5b7-e6a2342306af",
   "metadata": {},
   "outputs": [],
   "source": []
  },
  {
   "cell_type": "code",
   "execution_count": 22,
   "id": "03ada2d9-9348-4eab-8aba-dbfd0245bd99",
   "metadata": {},
   "outputs": [
    {
     "data": {
      "text/plain": [
       "1"
      ]
     },
     "execution_count": 22,
     "metadata": {},
     "output_type": "execute_result"
    }
   ],
   "source": [
    "1"
   ]
  },
  {
   "cell_type": "code",
   "execution_count": 23,
   "id": "c6e8f742-b8b6-41d8-a5d5-7d19d371dba2",
   "metadata": {},
   "outputs": [
    {
     "data": {
      "text/plain": [
       "tensor([5.])"
      ]
     },
     "execution_count": 23,
     "metadata": {},
     "output_type": "execute_result"
    }
   ],
   "source": [
    "torch.cat((torch.tensor([]),torch.tensor([5])))"
   ]
  },
  {
   "cell_type": "code",
   "execution_count": 15,
   "id": "0ab7a397-594b-4fd5-b0b6-bc622621fdcb",
   "metadata": {},
   "outputs": [
    {
     "data": {
      "text/plain": [
       "[3, 2, 1]"
      ]
     },
     "execution_count": 15,
     "metadata": {},
     "output_type": "execute_result"
    }
   ],
   "source": [
    "list(reversed(l))"
   ]
  },
  {
   "cell_type": "code",
   "execution_count": 17,
   "id": "5b2d6b0d-0f47-4ab6-b628-1df997e3af75",
   "metadata": {},
   "outputs": [
    {
     "ename": "SyntaxError",
     "evalue": "unexpected EOF while parsing (Temp/ipykernel_15808/1533538188.py, line 2)",
     "output_type": "error",
     "traceback": [
      "\u001b[1;36m  File \u001b[1;32m\"C:\\Users\\ANANYA\\AppData\\Local\\Temp/ipykernel_15808/1533538188.py\"\u001b[1;36m, line \u001b[1;32m2\u001b[0m\n\u001b[1;33m    1//0\u001b[0m\n\u001b[1;37m        ^\u001b[0m\n\u001b[1;31mSyntaxError\u001b[0m\u001b[1;31m:\u001b[0m unexpected EOF while parsing\n"
     ]
    }
   ],
   "source": []
  },
  {
   "cell_type": "code",
   "execution_count": 4,
   "id": "c5ba4774-7606-4de2-9966-9a637353d9ae",
   "metadata": {},
   "outputs": [],
   "source": [
    "z=zip([1,2,3],np.ones(3))"
   ]
  },
  {
   "cell_type": "code",
   "execution_count": 7,
   "id": "aeb7ef41-5b49-48e0-81bb-7f476166c7b7",
   "metadata": {},
   "outputs": [],
   "source": [
    "ar=np.array([1.,2.,3.])"
   ]
  },
  {
   "cell_type": "code",
   "execution_count": 14,
   "id": "3628d1b3-8b93-49eb-bb0e-e0f44053e3c6",
   "metadata": {},
   "outputs": [
    {
     "data": {
      "text/plain": [
       "array([3., 2., 1.])"
      ]
     },
     "execution_count": 14,
     "metadata": {},
     "output_type": "execute_result"
    }
   ],
   "source": [
    "np.array(list(reversed([1.,2.,3.])))"
   ]
  },
  {
   "cell_type": "code",
   "execution_count": 26,
   "id": "c94fb5b0-4fdf-4767-96c4-0ba5dc888c76",
   "metadata": {},
   "outputs": [
    {
     "data": {
      "text/plain": [
       "tensor([10.,  4.], grad_fn=<FlipBackward0>)"
      ]
     },
     "execution_count": 26,
     "metadata": {},
     "output_type": "execute_result"
    }
   ],
   "source": []
  },
  {
   "cell_type": "code",
   "execution_count": 25,
   "id": "59abd71a-bc08-4510-a835-1938a29f97eb",
   "metadata": {},
   "outputs": [
    {
     "data": {
      "text/plain": [
       "tensor([ 4., 10.], requires_grad=True)"
      ]
     },
     "execution_count": 25,
     "metadata": {},
     "output_type": "execute_result"
    }
   ],
   "source": [
    "t"
   ]
  },
  {
   "cell_type": "code",
   "execution_count": 38,
   "id": "64d224b1-ee89-48e4-a775-1407bae01e75",
   "metadata": {},
   "outputs": [
    {
     "ename": "TypeError",
     "evalue": "Dataset() takes no arguments",
     "output_type": "error",
     "traceback": [
      "\u001b[1;31m---------------------------------------------------------------------------\u001b[0m",
      "\u001b[1;31mTypeError\u001b[0m                                 Traceback (most recent call last)",
      "\u001b[1;32m~\\AppData\\Local\\Temp/ipykernel_10560/849944444.py\u001b[0m in \u001b[0;36m<module>\u001b[1;34m\u001b[0m\n\u001b[1;32m----> 1\u001b[1;33m \u001b[0mds\u001b[0m\u001b[1;33m=\u001b[0m\u001b[0mDataset\u001b[0m\u001b[1;33m(\u001b[0m\u001b[1;33m[\u001b[0m\u001b[1;36m1\u001b[0m\u001b[1;33m,\u001b[0m\u001b[1;36m2\u001b[0m\u001b[1;33m,\u001b[0m\u001b[1;36m3\u001b[0m\u001b[1;33m]\u001b[0m\u001b[1;33m)\u001b[0m\u001b[1;33m\u001b[0m\u001b[1;33m\u001b[0m\u001b[0m\n\u001b[0m",
      "\u001b[1;31mTypeError\u001b[0m: Dataset() takes no arguments"
     ]
    }
   ],
   "source": []
  },
  {
   "cell_type": "code",
   "execution_count": 37,
   "id": "2224ad9c-8dfb-46c5-a63d-80c0c66b7c07",
   "metadata": {},
   "outputs": [
    {
     "ename": "TypeError",
     "evalue": "'Dataset' object is not callable",
     "output_type": "error",
     "traceback": [
      "\u001b[1;31m---------------------------------------------------------------------------\u001b[0m",
      "\u001b[1;31mTypeError\u001b[0m                                 Traceback (most recent call last)",
      "\u001b[1;32m~\\AppData\\Local\\Temp/ipykernel_10560/1461241205.py\u001b[0m in \u001b[0;36m<module>\u001b[1;34m\u001b[0m\n\u001b[1;32m----> 1\u001b[1;33m \u001b[0mds\u001b[0m\u001b[1;33m(\u001b[0m\u001b[1;33m[\u001b[0m\u001b[1;36m1\u001b[0m\u001b[1;33m,\u001b[0m\u001b[1;36m2\u001b[0m\u001b[1;33m,\u001b[0m\u001b[1;36m3\u001b[0m\u001b[1;33m]\u001b[0m\u001b[1;33m)\u001b[0m\u001b[1;33m\u001b[0m\u001b[1;33m\u001b[0m\u001b[0m\n\u001b[0m",
      "\u001b[1;31mTypeError\u001b[0m: 'Dataset' object is not callable"
     ]
    }
   ],
   "source": []
  },
  {
   "cell_type": "code",
   "execution_count": null,
   "id": "5d6c74b0-ae9d-45c1-a87a-df7fa963730e",
   "metadata": {},
   "outputs": [],
   "source": []
  }
 ],
 "metadata": {
  "kernelspec": {
   "display_name": "Python 3 (ipykernel)",
   "language": "python",
   "name": "python3"
  },
  "language_info": {
   "codemirror_mode": {
    "name": "ipython",
    "version": 3
   },
   "file_extension": ".py",
   "mimetype": "text/x-python",
   "name": "python",
   "nbconvert_exporter": "python",
   "pygments_lexer": "ipython3",
   "version": "3.9.7"
  }
 },
 "nbformat": 4,
 "nbformat_minor": 5
}
